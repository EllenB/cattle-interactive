{
  "nbformat": 4,
  "nbformat_minor": 0,
  "metadata": {
    "colab": {
      "provenance": []
    },
    "kernelspec": {
      "name": "python3",
      "display_name": "Python 3"
    },
    "language_info": {
      "name": "python"
    }
  },
  "cells": [
    {
      "cell_type": "markdown",
      "source": [
        "## Introduction\n",
        "\n",
        "The data are downloaded from [Movebank]().\n",
        "\n",
        "More specifically, the following data are used:\n",
        "\n",
        "These data are in the form of a .csv file and in order to work with the data, we need to convert them first into a Geopandas datafile.\n",
        "\n",
        "The data are downloaded from local drive. This code is written in Google Colab. Hence, the data need to be uploaded first from local into Google Colab."
      ],
      "metadata": {
        "id": "hkaXlrWVDhsy"
      }
    },
    {
      "cell_type": "markdown",
      "source": [
        "## Importing packages"
      ],
      "metadata": {
        "id": "NJX0kF7yD36A"
      }
    },
    {
      "cell_type": "code",
      "source": [
        "import pandas as pd\n",
        "import geopandas as gpd"
      ],
      "metadata": {
        "id": "Y3oWNN0ADhLj"
      },
      "execution_count": 1,
      "outputs": []
    },
    {
      "cell_type": "markdown",
      "source": [
        "## Data preparation"
      ],
      "metadata": {
        "id": "ouqZ_dplEVf9"
      }
    },
    {
      "cell_type": "code",
      "execution_count": 2,
      "metadata": {
        "id": "r0N9uiLSDeAC"
      },
      "outputs": [],
      "source": [
        "cattle = pd.read_csv('Daily grazing movements of cattle in the Far North Region, Cameroon.csv')"
      ]
    },
    {
      "cell_type": "code",
      "source": [
        "cattle.head()"
      ],
      "metadata": {
        "colab": {
          "base_uri": "https://localhost:8080/",
          "height": 519
        },
        "id": "4Hi1mmBQGFs5",
        "outputId": "b750ed23-6037-4a02-c8c2-c738268dfb09"
      },
      "execution_count": 3,
      "outputs": [
        {
          "output_type": "execute_result",
          "data": {
            "text/plain": [
              "     event-id  visible                timestamp  location-long  location-lat  \\\n",
              "0  5170988886     True  2009-03-12 05:11:00.000      15.088783     11.146467   \n",
              "1  5170988887     True  2009-03-12 05:11:00.000      15.088783     11.146450   \n",
              "2  5170988888     True  2009-03-12 05:11:00.000      15.088767     11.146467   \n",
              "3  5170988889     True  2009-03-12 05:11:00.000      15.088750     11.146467   \n",
              "4  5170988890     True  2009-03-12 05:11:00.000      15.088700     11.146500   \n",
              "\n",
              "  comments  ground-speed  heading  height-above-ellipsoid  \\\n",
              "0      day      0.044704    243.0                302.9712   \n",
              "1      day      0.625856    289.0                305.1048   \n",
              "2      day      0.894080    304.0                305.1048   \n",
              "3      day      1.788160    306.0                306.0192   \n",
              "4      day      0.894080    297.0                313.0296   \n",
              "\n",
              "  study-specific-measurement  tag-tech-spec sensor-type  \\\n",
              "0                       4-26              0         gps   \n",
              "1                        6-3              1         gps   \n",
              "2                        7-3              2         gps   \n",
              "3                       17-3              3         gps   \n",
              "4                        9-3              4         gps   \n",
              "\n",
              "  individual-taxon-canonical-name tag-local-identifier  \\\n",
              "0                      Bos taurus     cattle0120309day   \n",
              "1                      Bos taurus     cattle0120309day   \n",
              "2                      Bos taurus     cattle0120309day   \n",
              "3                      Bos taurus     cattle0120309day   \n",
              "4                      Bos taurus     cattle0120309day   \n",
              "\n",
              "  individual-local-identifier  \\\n",
              "0            cattle0120309day   \n",
              "1            cattle0120309day   \n",
              "2            cattle0120309day   \n",
              "3            cattle0120309day   \n",
              "4            cattle0120309day   \n",
              "\n",
              "                                          study-name  \n",
              "0  Daily grazing movements of cattle in the Far N...  \n",
              "1  Daily grazing movements of cattle in the Far N...  \n",
              "2  Daily grazing movements of cattle in the Far N...  \n",
              "3  Daily grazing movements of cattle in the Far N...  \n",
              "4  Daily grazing movements of cattle in the Far N...  "
            ],
            "text/html": [
              "\n",
              "  <div id=\"df-0e71c2a7-2df0-4b4f-87c4-b6cf10722fcf\" class=\"colab-df-container\">\n",
              "    <div>\n",
              "<style scoped>\n",
              "    .dataframe tbody tr th:only-of-type {\n",
              "        vertical-align: middle;\n",
              "    }\n",
              "\n",
              "    .dataframe tbody tr th {\n",
              "        vertical-align: top;\n",
              "    }\n",
              "\n",
              "    .dataframe thead th {\n",
              "        text-align: right;\n",
              "    }\n",
              "</style>\n",
              "<table border=\"1\" class=\"dataframe\">\n",
              "  <thead>\n",
              "    <tr style=\"text-align: right;\">\n",
              "      <th></th>\n",
              "      <th>event-id</th>\n",
              "      <th>visible</th>\n",
              "      <th>timestamp</th>\n",
              "      <th>location-long</th>\n",
              "      <th>location-lat</th>\n",
              "      <th>comments</th>\n",
              "      <th>ground-speed</th>\n",
              "      <th>heading</th>\n",
              "      <th>height-above-ellipsoid</th>\n",
              "      <th>study-specific-measurement</th>\n",
              "      <th>tag-tech-spec</th>\n",
              "      <th>sensor-type</th>\n",
              "      <th>individual-taxon-canonical-name</th>\n",
              "      <th>tag-local-identifier</th>\n",
              "      <th>individual-local-identifier</th>\n",
              "      <th>study-name</th>\n",
              "    </tr>\n",
              "  </thead>\n",
              "  <tbody>\n",
              "    <tr>\n",
              "      <th>0</th>\n",
              "      <td>5170988886</td>\n",
              "      <td>True</td>\n",
              "      <td>2009-03-12 05:11:00.000</td>\n",
              "      <td>15.088783</td>\n",
              "      <td>11.146467</td>\n",
              "      <td>day</td>\n",
              "      <td>0.044704</td>\n",
              "      <td>243.0</td>\n",
              "      <td>302.9712</td>\n",
              "      <td>4-26</td>\n",
              "      <td>0</td>\n",
              "      <td>gps</td>\n",
              "      <td>Bos taurus</td>\n",
              "      <td>cattle0120309day</td>\n",
              "      <td>cattle0120309day</td>\n",
              "      <td>Daily grazing movements of cattle in the Far N...</td>\n",
              "    </tr>\n",
              "    <tr>\n",
              "      <th>1</th>\n",
              "      <td>5170988887</td>\n",
              "      <td>True</td>\n",
              "      <td>2009-03-12 05:11:00.000</td>\n",
              "      <td>15.088783</td>\n",
              "      <td>11.146450</td>\n",
              "      <td>day</td>\n",
              "      <td>0.625856</td>\n",
              "      <td>289.0</td>\n",
              "      <td>305.1048</td>\n",
              "      <td>6-3</td>\n",
              "      <td>1</td>\n",
              "      <td>gps</td>\n",
              "      <td>Bos taurus</td>\n",
              "      <td>cattle0120309day</td>\n",
              "      <td>cattle0120309day</td>\n",
              "      <td>Daily grazing movements of cattle in the Far N...</td>\n",
              "    </tr>\n",
              "    <tr>\n",
              "      <th>2</th>\n",
              "      <td>5170988888</td>\n",
              "      <td>True</td>\n",
              "      <td>2009-03-12 05:11:00.000</td>\n",
              "      <td>15.088767</td>\n",
              "      <td>11.146467</td>\n",
              "      <td>day</td>\n",
              "      <td>0.894080</td>\n",
              "      <td>304.0</td>\n",
              "      <td>305.1048</td>\n",
              "      <td>7-3</td>\n",
              "      <td>2</td>\n",
              "      <td>gps</td>\n",
              "      <td>Bos taurus</td>\n",
              "      <td>cattle0120309day</td>\n",
              "      <td>cattle0120309day</td>\n",
              "      <td>Daily grazing movements of cattle in the Far N...</td>\n",
              "    </tr>\n",
              "    <tr>\n",
              "      <th>3</th>\n",
              "      <td>5170988889</td>\n",
              "      <td>True</td>\n",
              "      <td>2009-03-12 05:11:00.000</td>\n",
              "      <td>15.088750</td>\n",
              "      <td>11.146467</td>\n",
              "      <td>day</td>\n",
              "      <td>1.788160</td>\n",
              "      <td>306.0</td>\n",
              "      <td>306.0192</td>\n",
              "      <td>17-3</td>\n",
              "      <td>3</td>\n",
              "      <td>gps</td>\n",
              "      <td>Bos taurus</td>\n",
              "      <td>cattle0120309day</td>\n",
              "      <td>cattle0120309day</td>\n",
              "      <td>Daily grazing movements of cattle in the Far N...</td>\n",
              "    </tr>\n",
              "    <tr>\n",
              "      <th>4</th>\n",
              "      <td>5170988890</td>\n",
              "      <td>True</td>\n",
              "      <td>2009-03-12 05:11:00.000</td>\n",
              "      <td>15.088700</td>\n",
              "      <td>11.146500</td>\n",
              "      <td>day</td>\n",
              "      <td>0.894080</td>\n",
              "      <td>297.0</td>\n",
              "      <td>313.0296</td>\n",
              "      <td>9-3</td>\n",
              "      <td>4</td>\n",
              "      <td>gps</td>\n",
              "      <td>Bos taurus</td>\n",
              "      <td>cattle0120309day</td>\n",
              "      <td>cattle0120309day</td>\n",
              "      <td>Daily grazing movements of cattle in the Far N...</td>\n",
              "    </tr>\n",
              "  </tbody>\n",
              "</table>\n",
              "</div>\n",
              "    <div class=\"colab-df-buttons\">\n",
              "\n",
              "  <div class=\"colab-df-container\">\n",
              "    <button class=\"colab-df-convert\" onclick=\"convertToInteractive('df-0e71c2a7-2df0-4b4f-87c4-b6cf10722fcf')\"\n",
              "            title=\"Convert this dataframe to an interactive table.\"\n",
              "            style=\"display:none;\">\n",
              "\n",
              "  <svg xmlns=\"http://www.w3.org/2000/svg\" height=\"24px\" viewBox=\"0 -960 960 960\">\n",
              "    <path d=\"M120-120v-720h720v720H120Zm60-500h600v-160H180v160Zm220 220h160v-160H400v160Zm0 220h160v-160H400v160ZM180-400h160v-160H180v160Zm440 0h160v-160H620v160ZM180-180h160v-160H180v160Zm440 0h160v-160H620v160Z\"/>\n",
              "  </svg>\n",
              "    </button>\n",
              "\n",
              "  <style>\n",
              "    .colab-df-container {\n",
              "      display:flex;\n",
              "      gap: 12px;\n",
              "    }\n",
              "\n",
              "    .colab-df-convert {\n",
              "      background-color: #E8F0FE;\n",
              "      border: none;\n",
              "      border-radius: 50%;\n",
              "      cursor: pointer;\n",
              "      display: none;\n",
              "      fill: #1967D2;\n",
              "      height: 32px;\n",
              "      padding: 0 0 0 0;\n",
              "      width: 32px;\n",
              "    }\n",
              "\n",
              "    .colab-df-convert:hover {\n",
              "      background-color: #E2EBFA;\n",
              "      box-shadow: 0px 1px 2px rgba(60, 64, 67, 0.3), 0px 1px 3px 1px rgba(60, 64, 67, 0.15);\n",
              "      fill: #174EA6;\n",
              "    }\n",
              "\n",
              "    .colab-df-buttons div {\n",
              "      margin-bottom: 4px;\n",
              "    }\n",
              "\n",
              "    [theme=dark] .colab-df-convert {\n",
              "      background-color: #3B4455;\n",
              "      fill: #D2E3FC;\n",
              "    }\n",
              "\n",
              "    [theme=dark] .colab-df-convert:hover {\n",
              "      background-color: #434B5C;\n",
              "      box-shadow: 0px 1px 3px 1px rgba(0, 0, 0, 0.15);\n",
              "      filter: drop-shadow(0px 1px 2px rgba(0, 0, 0, 0.3));\n",
              "      fill: #FFFFFF;\n",
              "    }\n",
              "  </style>\n",
              "\n",
              "    <script>\n",
              "      const buttonEl =\n",
              "        document.querySelector('#df-0e71c2a7-2df0-4b4f-87c4-b6cf10722fcf button.colab-df-convert');\n",
              "      buttonEl.style.display =\n",
              "        google.colab.kernel.accessAllowed ? 'block' : 'none';\n",
              "\n",
              "      async function convertToInteractive(key) {\n",
              "        const element = document.querySelector('#df-0e71c2a7-2df0-4b4f-87c4-b6cf10722fcf');\n",
              "        const dataTable =\n",
              "          await google.colab.kernel.invokeFunction('convertToInteractive',\n",
              "                                                    [key], {});\n",
              "        if (!dataTable) return;\n",
              "\n",
              "        const docLinkHtml = 'Like what you see? Visit the ' +\n",
              "          '<a target=\"_blank\" href=https://colab.research.google.com/notebooks/data_table.ipynb>data table notebook</a>'\n",
              "          + ' to learn more about interactive tables.';\n",
              "        element.innerHTML = '';\n",
              "        dataTable['output_type'] = 'display_data';\n",
              "        await google.colab.output.renderOutput(dataTable, element);\n",
              "        const docLink = document.createElement('div');\n",
              "        docLink.innerHTML = docLinkHtml;\n",
              "        element.appendChild(docLink);\n",
              "      }\n",
              "    </script>\n",
              "  </div>\n",
              "\n",
              "\n",
              "<div id=\"df-fa810ea7-7a18-401f-8b5f-de2926367ace\">\n",
              "  <button class=\"colab-df-quickchart\" onclick=\"quickchart('df-fa810ea7-7a18-401f-8b5f-de2926367ace')\"\n",
              "            title=\"Suggest charts\"\n",
              "            style=\"display:none;\">\n",
              "\n",
              "<svg xmlns=\"http://www.w3.org/2000/svg\" height=\"24px\"viewBox=\"0 0 24 24\"\n",
              "     width=\"24px\">\n",
              "    <g>\n",
              "        <path d=\"M19 3H5c-1.1 0-2 .9-2 2v14c0 1.1.9 2 2 2h14c1.1 0 2-.9 2-2V5c0-1.1-.9-2-2-2zM9 17H7v-7h2v7zm4 0h-2V7h2v10zm4 0h-2v-4h2v4z\"/>\n",
              "    </g>\n",
              "</svg>\n",
              "  </button>\n",
              "\n",
              "<style>\n",
              "  .colab-df-quickchart {\n",
              "      --bg-color: #E8F0FE;\n",
              "      --fill-color: #1967D2;\n",
              "      --hover-bg-color: #E2EBFA;\n",
              "      --hover-fill-color: #174EA6;\n",
              "      --disabled-fill-color: #AAA;\n",
              "      --disabled-bg-color: #DDD;\n",
              "  }\n",
              "\n",
              "  [theme=dark] .colab-df-quickchart {\n",
              "      --bg-color: #3B4455;\n",
              "      --fill-color: #D2E3FC;\n",
              "      --hover-bg-color: #434B5C;\n",
              "      --hover-fill-color: #FFFFFF;\n",
              "      --disabled-bg-color: #3B4455;\n",
              "      --disabled-fill-color: #666;\n",
              "  }\n",
              "\n",
              "  .colab-df-quickchart {\n",
              "    background-color: var(--bg-color);\n",
              "    border: none;\n",
              "    border-radius: 50%;\n",
              "    cursor: pointer;\n",
              "    display: none;\n",
              "    fill: var(--fill-color);\n",
              "    height: 32px;\n",
              "    padding: 0;\n",
              "    width: 32px;\n",
              "  }\n",
              "\n",
              "  .colab-df-quickchart:hover {\n",
              "    background-color: var(--hover-bg-color);\n",
              "    box-shadow: 0 1px 2px rgba(60, 64, 67, 0.3), 0 1px 3px 1px rgba(60, 64, 67, 0.15);\n",
              "    fill: var(--button-hover-fill-color);\n",
              "  }\n",
              "\n",
              "  .colab-df-quickchart-complete:disabled,\n",
              "  .colab-df-quickchart-complete:disabled:hover {\n",
              "    background-color: var(--disabled-bg-color);\n",
              "    fill: var(--disabled-fill-color);\n",
              "    box-shadow: none;\n",
              "  }\n",
              "\n",
              "  .colab-df-spinner {\n",
              "    border: 2px solid var(--fill-color);\n",
              "    border-color: transparent;\n",
              "    border-bottom-color: var(--fill-color);\n",
              "    animation:\n",
              "      spin 1s steps(1) infinite;\n",
              "  }\n",
              "\n",
              "  @keyframes spin {\n",
              "    0% {\n",
              "      border-color: transparent;\n",
              "      border-bottom-color: var(--fill-color);\n",
              "      border-left-color: var(--fill-color);\n",
              "    }\n",
              "    20% {\n",
              "      border-color: transparent;\n",
              "      border-left-color: var(--fill-color);\n",
              "      border-top-color: var(--fill-color);\n",
              "    }\n",
              "    30% {\n",
              "      border-color: transparent;\n",
              "      border-left-color: var(--fill-color);\n",
              "      border-top-color: var(--fill-color);\n",
              "      border-right-color: var(--fill-color);\n",
              "    }\n",
              "    40% {\n",
              "      border-color: transparent;\n",
              "      border-right-color: var(--fill-color);\n",
              "      border-top-color: var(--fill-color);\n",
              "    }\n",
              "    60% {\n",
              "      border-color: transparent;\n",
              "      border-right-color: var(--fill-color);\n",
              "    }\n",
              "    80% {\n",
              "      border-color: transparent;\n",
              "      border-right-color: var(--fill-color);\n",
              "      border-bottom-color: var(--fill-color);\n",
              "    }\n",
              "    90% {\n",
              "      border-color: transparent;\n",
              "      border-bottom-color: var(--fill-color);\n",
              "    }\n",
              "  }\n",
              "</style>\n",
              "\n",
              "  <script>\n",
              "    async function quickchart(key) {\n",
              "      const quickchartButtonEl =\n",
              "        document.querySelector('#' + key + ' button');\n",
              "      quickchartButtonEl.disabled = true;  // To prevent multiple clicks.\n",
              "      quickchartButtonEl.classList.add('colab-df-spinner');\n",
              "      try {\n",
              "        const charts = await google.colab.kernel.invokeFunction(\n",
              "            'suggestCharts', [key], {});\n",
              "      } catch (error) {\n",
              "        console.error('Error during call to suggestCharts:', error);\n",
              "      }\n",
              "      quickchartButtonEl.classList.remove('colab-df-spinner');\n",
              "      quickchartButtonEl.classList.add('colab-df-quickchart-complete');\n",
              "    }\n",
              "    (() => {\n",
              "      let quickchartButtonEl =\n",
              "        document.querySelector('#df-fa810ea7-7a18-401f-8b5f-de2926367ace button');\n",
              "      quickchartButtonEl.style.display =\n",
              "        google.colab.kernel.accessAllowed ? 'block' : 'none';\n",
              "    })();\n",
              "  </script>\n",
              "</div>\n",
              "\n",
              "    </div>\n",
              "  </div>\n"
            ],
            "application/vnd.google.colaboratory.intrinsic+json": {
              "type": "dataframe",
              "variable_name": "cattle"
            }
          },
          "metadata": {},
          "execution_count": 3
        }
      ]
    },
    {
      "cell_type": "code",
      "source": [
        "cattle.describe()"
      ],
      "metadata": {
        "colab": {
          "base_uri": "https://localhost:8080/",
          "height": 300
        },
        "id": "cS7jbyVxGGe0",
        "outputId": "c7d6cd47-c94d-41d4-dddf-957de0239ea8"
      },
      "execution_count": 4,
      "outputs": [
        {
          "output_type": "execute_result",
          "data": {
            "text/plain": [
              "           event-id  location-long   location-lat   ground-speed  \\\n",
              "count  1.669210e+05  166921.000000  166921.000000  166921.000000   \n",
              "mean   5.171072e+09      14.983495      11.165128       0.602474   \n",
              "std    4.818699e+04       0.081813       0.040981       0.417488   \n",
              "min    5.170989e+09      14.863667      11.096683       0.000000   \n",
              "25%    5.171031e+09      14.897383      11.135517       0.178816   \n",
              "50%    5.171072e+09      14.998083      11.161433       0.625856   \n",
              "75%    5.171114e+09      15.072617      11.198683       0.894080   \n",
              "max    5.171156e+09      15.097983      11.246783       4.917440   \n",
              "\n",
              "             heading  height-above-ellipsoid  tag-tech-spec  \n",
              "count  166921.000000           166921.000000  166921.000000  \n",
              "mean      167.935065              319.572482    3292.112083  \n",
              "std       108.102411                2.703808    2226.378777  \n",
              "min         0.000000              289.864800       0.000000  \n",
              "25%        90.000000              317.906400    1280.000000  \n",
              "50%       166.000000              320.040000    3078.000000  \n",
              "75%       270.000000              320.954400    5082.000000  \n",
              "max       356.000000              344.119200    8816.000000  "
            ],
            "text/html": [
              "\n",
              "  <div id=\"df-d0d49239-6fa5-485a-8f28-f8b333f8e428\" class=\"colab-df-container\">\n",
              "    <div>\n",
              "<style scoped>\n",
              "    .dataframe tbody tr th:only-of-type {\n",
              "        vertical-align: middle;\n",
              "    }\n",
              "\n",
              "    .dataframe tbody tr th {\n",
              "        vertical-align: top;\n",
              "    }\n",
              "\n",
              "    .dataframe thead th {\n",
              "        text-align: right;\n",
              "    }\n",
              "</style>\n",
              "<table border=\"1\" class=\"dataframe\">\n",
              "  <thead>\n",
              "    <tr style=\"text-align: right;\">\n",
              "      <th></th>\n",
              "      <th>event-id</th>\n",
              "      <th>location-long</th>\n",
              "      <th>location-lat</th>\n",
              "      <th>ground-speed</th>\n",
              "      <th>heading</th>\n",
              "      <th>height-above-ellipsoid</th>\n",
              "      <th>tag-tech-spec</th>\n",
              "    </tr>\n",
              "  </thead>\n",
              "  <tbody>\n",
              "    <tr>\n",
              "      <th>count</th>\n",
              "      <td>1.669210e+05</td>\n",
              "      <td>166921.000000</td>\n",
              "      <td>166921.000000</td>\n",
              "      <td>166921.000000</td>\n",
              "      <td>166921.000000</td>\n",
              "      <td>166921.000000</td>\n",
              "      <td>166921.000000</td>\n",
              "    </tr>\n",
              "    <tr>\n",
              "      <th>mean</th>\n",
              "      <td>5.171072e+09</td>\n",
              "      <td>14.983495</td>\n",
              "      <td>11.165128</td>\n",
              "      <td>0.602474</td>\n",
              "      <td>167.935065</td>\n",
              "      <td>319.572482</td>\n",
              "      <td>3292.112083</td>\n",
              "    </tr>\n",
              "    <tr>\n",
              "      <th>std</th>\n",
              "      <td>4.818699e+04</td>\n",
              "      <td>0.081813</td>\n",
              "      <td>0.040981</td>\n",
              "      <td>0.417488</td>\n",
              "      <td>108.102411</td>\n",
              "      <td>2.703808</td>\n",
              "      <td>2226.378777</td>\n",
              "    </tr>\n",
              "    <tr>\n",
              "      <th>min</th>\n",
              "      <td>5.170989e+09</td>\n",
              "      <td>14.863667</td>\n",
              "      <td>11.096683</td>\n",
              "      <td>0.000000</td>\n",
              "      <td>0.000000</td>\n",
              "      <td>289.864800</td>\n",
              "      <td>0.000000</td>\n",
              "    </tr>\n",
              "    <tr>\n",
              "      <th>25%</th>\n",
              "      <td>5.171031e+09</td>\n",
              "      <td>14.897383</td>\n",
              "      <td>11.135517</td>\n",
              "      <td>0.178816</td>\n",
              "      <td>90.000000</td>\n",
              "      <td>317.906400</td>\n",
              "      <td>1280.000000</td>\n",
              "    </tr>\n",
              "    <tr>\n",
              "      <th>50%</th>\n",
              "      <td>5.171072e+09</td>\n",
              "      <td>14.998083</td>\n",
              "      <td>11.161433</td>\n",
              "      <td>0.625856</td>\n",
              "      <td>166.000000</td>\n",
              "      <td>320.040000</td>\n",
              "      <td>3078.000000</td>\n",
              "    </tr>\n",
              "    <tr>\n",
              "      <th>75%</th>\n",
              "      <td>5.171114e+09</td>\n",
              "      <td>15.072617</td>\n",
              "      <td>11.198683</td>\n",
              "      <td>0.894080</td>\n",
              "      <td>270.000000</td>\n",
              "      <td>320.954400</td>\n",
              "      <td>5082.000000</td>\n",
              "    </tr>\n",
              "    <tr>\n",
              "      <th>max</th>\n",
              "      <td>5.171156e+09</td>\n",
              "      <td>15.097983</td>\n",
              "      <td>11.246783</td>\n",
              "      <td>4.917440</td>\n",
              "      <td>356.000000</td>\n",
              "      <td>344.119200</td>\n",
              "      <td>8816.000000</td>\n",
              "    </tr>\n",
              "  </tbody>\n",
              "</table>\n",
              "</div>\n",
              "    <div class=\"colab-df-buttons\">\n",
              "\n",
              "  <div class=\"colab-df-container\">\n",
              "    <button class=\"colab-df-convert\" onclick=\"convertToInteractive('df-d0d49239-6fa5-485a-8f28-f8b333f8e428')\"\n",
              "            title=\"Convert this dataframe to an interactive table.\"\n",
              "            style=\"display:none;\">\n",
              "\n",
              "  <svg xmlns=\"http://www.w3.org/2000/svg\" height=\"24px\" viewBox=\"0 -960 960 960\">\n",
              "    <path d=\"M120-120v-720h720v720H120Zm60-500h600v-160H180v160Zm220 220h160v-160H400v160Zm0 220h160v-160H400v160ZM180-400h160v-160H180v160Zm440 0h160v-160H620v160ZM180-180h160v-160H180v160Zm440 0h160v-160H620v160Z\"/>\n",
              "  </svg>\n",
              "    </button>\n",
              "\n",
              "  <style>\n",
              "    .colab-df-container {\n",
              "      display:flex;\n",
              "      gap: 12px;\n",
              "    }\n",
              "\n",
              "    .colab-df-convert {\n",
              "      background-color: #E8F0FE;\n",
              "      border: none;\n",
              "      border-radius: 50%;\n",
              "      cursor: pointer;\n",
              "      display: none;\n",
              "      fill: #1967D2;\n",
              "      height: 32px;\n",
              "      padding: 0 0 0 0;\n",
              "      width: 32px;\n",
              "    }\n",
              "\n",
              "    .colab-df-convert:hover {\n",
              "      background-color: #E2EBFA;\n",
              "      box-shadow: 0px 1px 2px rgba(60, 64, 67, 0.3), 0px 1px 3px 1px rgba(60, 64, 67, 0.15);\n",
              "      fill: #174EA6;\n",
              "    }\n",
              "\n",
              "    .colab-df-buttons div {\n",
              "      margin-bottom: 4px;\n",
              "    }\n",
              "\n",
              "    [theme=dark] .colab-df-convert {\n",
              "      background-color: #3B4455;\n",
              "      fill: #D2E3FC;\n",
              "    }\n",
              "\n",
              "    [theme=dark] .colab-df-convert:hover {\n",
              "      background-color: #434B5C;\n",
              "      box-shadow: 0px 1px 3px 1px rgba(0, 0, 0, 0.15);\n",
              "      filter: drop-shadow(0px 1px 2px rgba(0, 0, 0, 0.3));\n",
              "      fill: #FFFFFF;\n",
              "    }\n",
              "  </style>\n",
              "\n",
              "    <script>\n",
              "      const buttonEl =\n",
              "        document.querySelector('#df-d0d49239-6fa5-485a-8f28-f8b333f8e428 button.colab-df-convert');\n",
              "      buttonEl.style.display =\n",
              "        google.colab.kernel.accessAllowed ? 'block' : 'none';\n",
              "\n",
              "      async function convertToInteractive(key) {\n",
              "        const element = document.querySelector('#df-d0d49239-6fa5-485a-8f28-f8b333f8e428');\n",
              "        const dataTable =\n",
              "          await google.colab.kernel.invokeFunction('convertToInteractive',\n",
              "                                                    [key], {});\n",
              "        if (!dataTable) return;\n",
              "\n",
              "        const docLinkHtml = 'Like what you see? Visit the ' +\n",
              "          '<a target=\"_blank\" href=https://colab.research.google.com/notebooks/data_table.ipynb>data table notebook</a>'\n",
              "          + ' to learn more about interactive tables.';\n",
              "        element.innerHTML = '';\n",
              "        dataTable['output_type'] = 'display_data';\n",
              "        await google.colab.output.renderOutput(dataTable, element);\n",
              "        const docLink = document.createElement('div');\n",
              "        docLink.innerHTML = docLinkHtml;\n",
              "        element.appendChild(docLink);\n",
              "      }\n",
              "    </script>\n",
              "  </div>\n",
              "\n",
              "\n",
              "<div id=\"df-dcaba7e7-2add-4b27-9816-8b693023e87d\">\n",
              "  <button class=\"colab-df-quickchart\" onclick=\"quickchart('df-dcaba7e7-2add-4b27-9816-8b693023e87d')\"\n",
              "            title=\"Suggest charts\"\n",
              "            style=\"display:none;\">\n",
              "\n",
              "<svg xmlns=\"http://www.w3.org/2000/svg\" height=\"24px\"viewBox=\"0 0 24 24\"\n",
              "     width=\"24px\">\n",
              "    <g>\n",
              "        <path d=\"M19 3H5c-1.1 0-2 .9-2 2v14c0 1.1.9 2 2 2h14c1.1 0 2-.9 2-2V5c0-1.1-.9-2-2-2zM9 17H7v-7h2v7zm4 0h-2V7h2v10zm4 0h-2v-4h2v4z\"/>\n",
              "    </g>\n",
              "</svg>\n",
              "  </button>\n",
              "\n",
              "<style>\n",
              "  .colab-df-quickchart {\n",
              "      --bg-color: #E8F0FE;\n",
              "      --fill-color: #1967D2;\n",
              "      --hover-bg-color: #E2EBFA;\n",
              "      --hover-fill-color: #174EA6;\n",
              "      --disabled-fill-color: #AAA;\n",
              "      --disabled-bg-color: #DDD;\n",
              "  }\n",
              "\n",
              "  [theme=dark] .colab-df-quickchart {\n",
              "      --bg-color: #3B4455;\n",
              "      --fill-color: #D2E3FC;\n",
              "      --hover-bg-color: #434B5C;\n",
              "      --hover-fill-color: #FFFFFF;\n",
              "      --disabled-bg-color: #3B4455;\n",
              "      --disabled-fill-color: #666;\n",
              "  }\n",
              "\n",
              "  .colab-df-quickchart {\n",
              "    background-color: var(--bg-color);\n",
              "    border: none;\n",
              "    border-radius: 50%;\n",
              "    cursor: pointer;\n",
              "    display: none;\n",
              "    fill: var(--fill-color);\n",
              "    height: 32px;\n",
              "    padding: 0;\n",
              "    width: 32px;\n",
              "  }\n",
              "\n",
              "  .colab-df-quickchart:hover {\n",
              "    background-color: var(--hover-bg-color);\n",
              "    box-shadow: 0 1px 2px rgba(60, 64, 67, 0.3), 0 1px 3px 1px rgba(60, 64, 67, 0.15);\n",
              "    fill: var(--button-hover-fill-color);\n",
              "  }\n",
              "\n",
              "  .colab-df-quickchart-complete:disabled,\n",
              "  .colab-df-quickchart-complete:disabled:hover {\n",
              "    background-color: var(--disabled-bg-color);\n",
              "    fill: var(--disabled-fill-color);\n",
              "    box-shadow: none;\n",
              "  }\n",
              "\n",
              "  .colab-df-spinner {\n",
              "    border: 2px solid var(--fill-color);\n",
              "    border-color: transparent;\n",
              "    border-bottom-color: var(--fill-color);\n",
              "    animation:\n",
              "      spin 1s steps(1) infinite;\n",
              "  }\n",
              "\n",
              "  @keyframes spin {\n",
              "    0% {\n",
              "      border-color: transparent;\n",
              "      border-bottom-color: var(--fill-color);\n",
              "      border-left-color: var(--fill-color);\n",
              "    }\n",
              "    20% {\n",
              "      border-color: transparent;\n",
              "      border-left-color: var(--fill-color);\n",
              "      border-top-color: var(--fill-color);\n",
              "    }\n",
              "    30% {\n",
              "      border-color: transparent;\n",
              "      border-left-color: var(--fill-color);\n",
              "      border-top-color: var(--fill-color);\n",
              "      border-right-color: var(--fill-color);\n",
              "    }\n",
              "    40% {\n",
              "      border-color: transparent;\n",
              "      border-right-color: var(--fill-color);\n",
              "      border-top-color: var(--fill-color);\n",
              "    }\n",
              "    60% {\n",
              "      border-color: transparent;\n",
              "      border-right-color: var(--fill-color);\n",
              "    }\n",
              "    80% {\n",
              "      border-color: transparent;\n",
              "      border-right-color: var(--fill-color);\n",
              "      border-bottom-color: var(--fill-color);\n",
              "    }\n",
              "    90% {\n",
              "      border-color: transparent;\n",
              "      border-bottom-color: var(--fill-color);\n",
              "    }\n",
              "  }\n",
              "</style>\n",
              "\n",
              "  <script>\n",
              "    async function quickchart(key) {\n",
              "      const quickchartButtonEl =\n",
              "        document.querySelector('#' + key + ' button');\n",
              "      quickchartButtonEl.disabled = true;  // To prevent multiple clicks.\n",
              "      quickchartButtonEl.classList.add('colab-df-spinner');\n",
              "      try {\n",
              "        const charts = await google.colab.kernel.invokeFunction(\n",
              "            'suggestCharts', [key], {});\n",
              "      } catch (error) {\n",
              "        console.error('Error during call to suggestCharts:', error);\n",
              "      }\n",
              "      quickchartButtonEl.classList.remove('colab-df-spinner');\n",
              "      quickchartButtonEl.classList.add('colab-df-quickchart-complete');\n",
              "    }\n",
              "    (() => {\n",
              "      let quickchartButtonEl =\n",
              "        document.querySelector('#df-dcaba7e7-2add-4b27-9816-8b693023e87d button');\n",
              "      quickchartButtonEl.style.display =\n",
              "        google.colab.kernel.accessAllowed ? 'block' : 'none';\n",
              "    })();\n",
              "  </script>\n",
              "</div>\n",
              "\n",
              "    </div>\n",
              "  </div>\n"
            ],
            "application/vnd.google.colaboratory.intrinsic+json": {
              "type": "dataframe",
              "summary": "{\n  \"name\": \"cattle\",\n  \"rows\": 8,\n  \"fields\": [\n    {\n      \"column\": \"event-id\",\n      \"properties\": {\n        \"dtype\": \"number\",\n        \"std\": 2393691576.0159125,\n        \"min\": 48186.98919873147,\n        \"max\": 5171155821.0,\n        \"num_unique_values\": 8,\n        \"samples\": [\n          5171072359.749714,\n          5171072360.0,\n          166921.0\n        ],\n        \"semantic_type\": \"\",\n        \"description\": \"\"\n      }\n    },\n    {\n      \"column\": \"location-long\",\n      \"properties\": {\n        \"dtype\": \"number\",\n        \"std\": 59010.940305734155,\n        \"min\": 0.08181324093501109,\n        \"max\": 166921.0,\n        \"num_unique_values\": 8,\n        \"samples\": [\n          14.983494608611856,\n          14.9980833,\n          166921.0\n        ],\n        \"semantic_type\": \"\",\n        \"description\": \"\"\n      }\n    },\n    {\n      \"column\": \"location-lat\",\n      \"properties\": {\n        \"dtype\": \"number\",\n        \"std\": 59012.09934527887,\n        \"min\": 0.04098078215936492,\n        \"max\": 166921.0,\n        \"num_unique_values\": 8,\n        \"samples\": [\n          11.16512774987569,\n          11.1614333,\n          166921.0\n        ],\n        \"semantic_type\": \"\",\n        \"description\": \"\"\n      }\n    },\n    {\n      \"column\": \"ground-speed\",\n      \"properties\": {\n        \"dtype\": \"number\",\n        \"std\": 59015.099848476,\n        \"min\": 0.0,\n        \"max\": 166921.0,\n        \"num_unique_values\": 8,\n        \"samples\": [\n          0.6024743840259762,\n          0.625856,\n          166921.0\n        ],\n        \"semantic_type\": \"\",\n        \"description\": \"\"\n      }\n    },\n    {\n      \"column\": \"heading\",\n      \"properties\": {\n        \"dtype\": \"number\",\n        \"std\": 58957.09707244124,\n        \"min\": 0.0,\n        \"max\": 166921.0,\n        \"num_unique_values\": 8,\n        \"samples\": [\n          167.93506509067163,\n          166.0,\n          166921.0\n        ],\n        \"semantic_type\": \"\",\n        \"description\": \"\"\n      }\n    },\n    {\n      \"column\": \"height-above-ellipsoid\",\n      \"properties\": {\n        \"dtype\": \"number\",\n        \"std\": 58918.86085948602,\n        \"min\": 2.7038080850509294,\n        \"max\": 166921.0,\n        \"num_unique_values\": 8,\n        \"samples\": [\n          319.57248211069907,\n          320.04,\n          166921.0\n        ],\n        \"semantic_type\": \"\",\n        \"description\": \"\"\n      }\n    },\n    {\n      \"column\": \"tag-tech-spec\",\n      \"properties\": {\n        \"dtype\": \"number\",\n        \"std\": 57876.07424504859,\n        \"min\": 0.0,\n        \"max\": 166921.0,\n        \"num_unique_values\": 8,\n        \"samples\": [\n          3292.112082961401,\n          3078.0,\n          166921.0\n        ],\n        \"semantic_type\": \"\",\n        \"description\": \"\"\n      }\n    }\n  ]\n}"
            }
          },
          "metadata": {},
          "execution_count": 4
        }
      ]
    },
    {
      "cell_type": "code",
      "source": [
        "cattle.info()"
      ],
      "metadata": {
        "colab": {
          "base_uri": "https://localhost:8080/"
        },
        "id": "V--IIBhKGIsT",
        "outputId": "7a7ed97c-b96c-47b7-c840-c945cf8e69ba"
      },
      "execution_count": 5,
      "outputs": [
        {
          "output_type": "stream",
          "name": "stdout",
          "text": [
            "<class 'pandas.core.frame.DataFrame'>\n",
            "RangeIndex: 166921 entries, 0 to 166920\n",
            "Data columns (total 16 columns):\n",
            " #   Column                           Non-Null Count   Dtype  \n",
            "---  ------                           --------------   -----  \n",
            " 0   event-id                         166921 non-null  int64  \n",
            " 1   visible                          166921 non-null  bool   \n",
            " 2   timestamp                        166921 non-null  object \n",
            " 3   location-long                    166921 non-null  float64\n",
            " 4   location-lat                     166921 non-null  float64\n",
            " 5   comments                         166921 non-null  object \n",
            " 6   ground-speed                     166921 non-null  float64\n",
            " 7   heading                          166921 non-null  float64\n",
            " 8   height-above-ellipsoid           166921 non-null  float64\n",
            " 9   study-specific-measurement       166921 non-null  object \n",
            " 10  tag-tech-spec                    166921 non-null  int64  \n",
            " 11  sensor-type                      166921 non-null  object \n",
            " 12  individual-taxon-canonical-name  166921 non-null  object \n",
            " 13  tag-local-identifier             166921 non-null  object \n",
            " 14  individual-local-identifier      166921 non-null  object \n",
            " 15  study-name                       166921 non-null  object \n",
            "dtypes: bool(1), float64(5), int64(2), object(8)\n",
            "memory usage: 19.3+ MB\n"
          ]
        }
      ]
    },
    {
      "cell_type": "code",
      "source": [
        "cattle.columns"
      ],
      "metadata": {
        "colab": {
          "base_uri": "https://localhost:8080/"
        },
        "id": "jxSrjXFIGKpn",
        "outputId": "a4689ee8-ee0d-4e99-d456-fa42bb223da4"
      },
      "execution_count": 7,
      "outputs": [
        {
          "output_type": "execute_result",
          "data": {
            "text/plain": [
              "Index(['event-id', 'visible', 'timestamp', 'location-long', 'location-lat',\n",
              "       'comments', 'ground-speed', 'heading', 'height-above-ellipsoid',\n",
              "       'study-specific-measurement', 'tag-tech-spec', 'sensor-type',\n",
              "       'individual-taxon-canonical-name', 'tag-local-identifier',\n",
              "       'individual-local-identifier', 'study-name'],\n",
              "      dtype='object')"
            ]
          },
          "metadata": {},
          "execution_count": 7
        }
      ]
    },
    {
      "cell_type": "code",
      "source": [
        "count_cow = cattle['individual-local-identifier'].value_counts()\n",
        "print(f'There are {len(count_cow)} cows in the dataset.')"
      ],
      "metadata": {
        "colab": {
          "base_uri": "https://localhost:8080/"
        },
        "id": "wULL4CK_GQK8",
        "outputId": "60b662be-5ccf-43ee-849d-e136308efc7c"
      },
      "execution_count": 9,
      "outputs": [
        {
          "output_type": "stream",
          "name": "stdout",
          "text": [
            "There are 33 cows in the dataset.\n"
          ]
        }
      ]
    },
    {
      "cell_type": "code",
      "source": [
        "count_obs = cattle['location-long'].value_counts()\n",
        "print(f'There are {len(count_obs)} GPS points in the dataset.')"
      ],
      "metadata": {
        "colab": {
          "base_uri": "https://localhost:8080/"
        },
        "id": "2ZYk2QyZGyZg",
        "outputId": "b2ed6460-4fc0-4a5b-99c9-50c864af0afe"
      },
      "execution_count": 10,
      "outputs": [
        {
          "output_type": "stream",
          "name": "stdout",
          "text": [
            "There are 10481 GPS points in the dataset.\n"
          ]
        }
      ]
    },
    {
      "cell_type": "code",
      "source": [
        "counts_day = cattle['comments'].value_counts()\n",
        "print(f'There are {counts_day.iloc[0]} observations during day time.')\n",
        "print(f'There are {counts_day.iloc[1]} observations during night time.')"
      ],
      "metadata": {
        "colab": {
          "base_uri": "https://localhost:8080/"
        },
        "id": "BlJ6Tlm9G69y",
        "outputId": "3f69e3ce-e3d3-4f80-c3bd-51f2617d4949"
      },
      "execution_count": 14,
      "outputs": [
        {
          "output_type": "stream",
          "name": "stdout",
          "text": [
            "There are 148112 observations during day time.\n",
            "There are 18809 observations during night time.\n"
          ]
        }
      ]
    },
    {
      "cell_type": "code",
      "source": [
        "df = gpd.GeoDataFrame(cattle, geometry=gpd.points_from_xy(cattle['location-long'], cattle['location-lat']), crs=\"EPSG:4326\")"
      ],
      "metadata": {
        "id": "xQvnuA6bHZFS"
      },
      "execution_count": 15,
      "outputs": []
    },
    {
      "cell_type": "code",
      "source": [
        "df.head()"
      ],
      "metadata": {
        "colab": {
          "base_uri": "https://localhost:8080/",
          "height": 625
        },
        "id": "--0_yBCdHQmj",
        "outputId": "8e4634b9-4b49-4ada-e17a-7b6801942754"
      },
      "execution_count": 17,
      "outputs": [
        {
          "output_type": "execute_result",
          "data": {
            "text/plain": [
              "     event-id  visible                timestamp  location-long  location-lat  \\\n",
              "0  5170988886     True  2009-03-12 05:11:00.000      15.088783     11.146467   \n",
              "1  5170988887     True  2009-03-12 05:11:00.000      15.088783     11.146450   \n",
              "2  5170988888     True  2009-03-12 05:11:00.000      15.088767     11.146467   \n",
              "3  5170988889     True  2009-03-12 05:11:00.000      15.088750     11.146467   \n",
              "4  5170988890     True  2009-03-12 05:11:00.000      15.088700     11.146500   \n",
              "\n",
              "  comments  ground-speed  heading  height-above-ellipsoid  \\\n",
              "0      day      0.044704    243.0                302.9712   \n",
              "1      day      0.625856    289.0                305.1048   \n",
              "2      day      0.894080    304.0                305.1048   \n",
              "3      day      1.788160    306.0                306.0192   \n",
              "4      day      0.894080    297.0                313.0296   \n",
              "\n",
              "  study-specific-measurement  tag-tech-spec sensor-type  \\\n",
              "0                       4-26              0         gps   \n",
              "1                        6-3              1         gps   \n",
              "2                        7-3              2         gps   \n",
              "3                       17-3              3         gps   \n",
              "4                        9-3              4         gps   \n",
              "\n",
              "  individual-taxon-canonical-name tag-local-identifier  \\\n",
              "0                      Bos taurus     cattle0120309day   \n",
              "1                      Bos taurus     cattle0120309day   \n",
              "2                      Bos taurus     cattle0120309day   \n",
              "3                      Bos taurus     cattle0120309day   \n",
              "4                      Bos taurus     cattle0120309day   \n",
              "\n",
              "  individual-local-identifier  \\\n",
              "0            cattle0120309day   \n",
              "1            cattle0120309day   \n",
              "2            cattle0120309day   \n",
              "3            cattle0120309day   \n",
              "4            cattle0120309day   \n",
              "\n",
              "                                          study-name  \\\n",
              "0  Daily grazing movements of cattle in the Far N...   \n",
              "1  Daily grazing movements of cattle in the Far N...   \n",
              "2  Daily grazing movements of cattle in the Far N...   \n",
              "3  Daily grazing movements of cattle in the Far N...   \n",
              "4  Daily grazing movements of cattle in the Far N...   \n",
              "\n",
              "                    geometry  \n",
              "0  POINT (15.08878 11.14647)  \n",
              "1  POINT (15.08878 11.14645)  \n",
              "2  POINT (15.08877 11.14647)  \n",
              "3  POINT (15.08875 11.14647)  \n",
              "4    POINT (15.0887 11.1465)  "
            ],
            "text/html": [
              "\n",
              "  <div id=\"df-d905a884-fe2c-483a-bb70-a112a94a9ada\" class=\"colab-df-container\">\n",
              "    <div>\n",
              "<style scoped>\n",
              "    .dataframe tbody tr th:only-of-type {\n",
              "        vertical-align: middle;\n",
              "    }\n",
              "\n",
              "    .dataframe tbody tr th {\n",
              "        vertical-align: top;\n",
              "    }\n",
              "\n",
              "    .dataframe thead th {\n",
              "        text-align: right;\n",
              "    }\n",
              "</style>\n",
              "<table border=\"1\" class=\"dataframe\">\n",
              "  <thead>\n",
              "    <tr style=\"text-align: right;\">\n",
              "      <th></th>\n",
              "      <th>event-id</th>\n",
              "      <th>visible</th>\n",
              "      <th>timestamp</th>\n",
              "      <th>location-long</th>\n",
              "      <th>location-lat</th>\n",
              "      <th>comments</th>\n",
              "      <th>ground-speed</th>\n",
              "      <th>heading</th>\n",
              "      <th>height-above-ellipsoid</th>\n",
              "      <th>study-specific-measurement</th>\n",
              "      <th>tag-tech-spec</th>\n",
              "      <th>sensor-type</th>\n",
              "      <th>individual-taxon-canonical-name</th>\n",
              "      <th>tag-local-identifier</th>\n",
              "      <th>individual-local-identifier</th>\n",
              "      <th>study-name</th>\n",
              "      <th>geometry</th>\n",
              "    </tr>\n",
              "  </thead>\n",
              "  <tbody>\n",
              "    <tr>\n",
              "      <th>0</th>\n",
              "      <td>5170988886</td>\n",
              "      <td>True</td>\n",
              "      <td>2009-03-12 05:11:00.000</td>\n",
              "      <td>15.088783</td>\n",
              "      <td>11.146467</td>\n",
              "      <td>day</td>\n",
              "      <td>0.044704</td>\n",
              "      <td>243.0</td>\n",
              "      <td>302.9712</td>\n",
              "      <td>4-26</td>\n",
              "      <td>0</td>\n",
              "      <td>gps</td>\n",
              "      <td>Bos taurus</td>\n",
              "      <td>cattle0120309day</td>\n",
              "      <td>cattle0120309day</td>\n",
              "      <td>Daily grazing movements of cattle in the Far N...</td>\n",
              "      <td>POINT (15.08878 11.14647)</td>\n",
              "    </tr>\n",
              "    <tr>\n",
              "      <th>1</th>\n",
              "      <td>5170988887</td>\n",
              "      <td>True</td>\n",
              "      <td>2009-03-12 05:11:00.000</td>\n",
              "      <td>15.088783</td>\n",
              "      <td>11.146450</td>\n",
              "      <td>day</td>\n",
              "      <td>0.625856</td>\n",
              "      <td>289.0</td>\n",
              "      <td>305.1048</td>\n",
              "      <td>6-3</td>\n",
              "      <td>1</td>\n",
              "      <td>gps</td>\n",
              "      <td>Bos taurus</td>\n",
              "      <td>cattle0120309day</td>\n",
              "      <td>cattle0120309day</td>\n",
              "      <td>Daily grazing movements of cattle in the Far N...</td>\n",
              "      <td>POINT (15.08878 11.14645)</td>\n",
              "    </tr>\n",
              "    <tr>\n",
              "      <th>2</th>\n",
              "      <td>5170988888</td>\n",
              "      <td>True</td>\n",
              "      <td>2009-03-12 05:11:00.000</td>\n",
              "      <td>15.088767</td>\n",
              "      <td>11.146467</td>\n",
              "      <td>day</td>\n",
              "      <td>0.894080</td>\n",
              "      <td>304.0</td>\n",
              "      <td>305.1048</td>\n",
              "      <td>7-3</td>\n",
              "      <td>2</td>\n",
              "      <td>gps</td>\n",
              "      <td>Bos taurus</td>\n",
              "      <td>cattle0120309day</td>\n",
              "      <td>cattle0120309day</td>\n",
              "      <td>Daily grazing movements of cattle in the Far N...</td>\n",
              "      <td>POINT (15.08877 11.14647)</td>\n",
              "    </tr>\n",
              "    <tr>\n",
              "      <th>3</th>\n",
              "      <td>5170988889</td>\n",
              "      <td>True</td>\n",
              "      <td>2009-03-12 05:11:00.000</td>\n",
              "      <td>15.088750</td>\n",
              "      <td>11.146467</td>\n",
              "      <td>day</td>\n",
              "      <td>1.788160</td>\n",
              "      <td>306.0</td>\n",
              "      <td>306.0192</td>\n",
              "      <td>17-3</td>\n",
              "      <td>3</td>\n",
              "      <td>gps</td>\n",
              "      <td>Bos taurus</td>\n",
              "      <td>cattle0120309day</td>\n",
              "      <td>cattle0120309day</td>\n",
              "      <td>Daily grazing movements of cattle in the Far N...</td>\n",
              "      <td>POINT (15.08875 11.14647)</td>\n",
              "    </tr>\n",
              "    <tr>\n",
              "      <th>4</th>\n",
              "      <td>5170988890</td>\n",
              "      <td>True</td>\n",
              "      <td>2009-03-12 05:11:00.000</td>\n",
              "      <td>15.088700</td>\n",
              "      <td>11.146500</td>\n",
              "      <td>day</td>\n",
              "      <td>0.894080</td>\n",
              "      <td>297.0</td>\n",
              "      <td>313.0296</td>\n",
              "      <td>9-3</td>\n",
              "      <td>4</td>\n",
              "      <td>gps</td>\n",
              "      <td>Bos taurus</td>\n",
              "      <td>cattle0120309day</td>\n",
              "      <td>cattle0120309day</td>\n",
              "      <td>Daily grazing movements of cattle in the Far N...</td>\n",
              "      <td>POINT (15.0887 11.1465)</td>\n",
              "    </tr>\n",
              "  </tbody>\n",
              "</table>\n",
              "</div>\n",
              "    <div class=\"colab-df-buttons\">\n",
              "\n",
              "  <div class=\"colab-df-container\">\n",
              "    <button class=\"colab-df-convert\" onclick=\"convertToInteractive('df-d905a884-fe2c-483a-bb70-a112a94a9ada')\"\n",
              "            title=\"Convert this dataframe to an interactive table.\"\n",
              "            style=\"display:none;\">\n",
              "\n",
              "  <svg xmlns=\"http://www.w3.org/2000/svg\" height=\"24px\" viewBox=\"0 -960 960 960\">\n",
              "    <path d=\"M120-120v-720h720v720H120Zm60-500h600v-160H180v160Zm220 220h160v-160H400v160Zm0 220h160v-160H400v160ZM180-400h160v-160H180v160Zm440 0h160v-160H620v160ZM180-180h160v-160H180v160Zm440 0h160v-160H620v160Z\"/>\n",
              "  </svg>\n",
              "    </button>\n",
              "\n",
              "  <style>\n",
              "    .colab-df-container {\n",
              "      display:flex;\n",
              "      gap: 12px;\n",
              "    }\n",
              "\n",
              "    .colab-df-convert {\n",
              "      background-color: #E8F0FE;\n",
              "      border: none;\n",
              "      border-radius: 50%;\n",
              "      cursor: pointer;\n",
              "      display: none;\n",
              "      fill: #1967D2;\n",
              "      height: 32px;\n",
              "      padding: 0 0 0 0;\n",
              "      width: 32px;\n",
              "    }\n",
              "\n",
              "    .colab-df-convert:hover {\n",
              "      background-color: #E2EBFA;\n",
              "      box-shadow: 0px 1px 2px rgba(60, 64, 67, 0.3), 0px 1px 3px 1px rgba(60, 64, 67, 0.15);\n",
              "      fill: #174EA6;\n",
              "    }\n",
              "\n",
              "    .colab-df-buttons div {\n",
              "      margin-bottom: 4px;\n",
              "    }\n",
              "\n",
              "    [theme=dark] .colab-df-convert {\n",
              "      background-color: #3B4455;\n",
              "      fill: #D2E3FC;\n",
              "    }\n",
              "\n",
              "    [theme=dark] .colab-df-convert:hover {\n",
              "      background-color: #434B5C;\n",
              "      box-shadow: 0px 1px 3px 1px rgba(0, 0, 0, 0.15);\n",
              "      filter: drop-shadow(0px 1px 2px rgba(0, 0, 0, 0.3));\n",
              "      fill: #FFFFFF;\n",
              "    }\n",
              "  </style>\n",
              "\n",
              "    <script>\n",
              "      const buttonEl =\n",
              "        document.querySelector('#df-d905a884-fe2c-483a-bb70-a112a94a9ada button.colab-df-convert');\n",
              "      buttonEl.style.display =\n",
              "        google.colab.kernel.accessAllowed ? 'block' : 'none';\n",
              "\n",
              "      async function convertToInteractive(key) {\n",
              "        const element = document.querySelector('#df-d905a884-fe2c-483a-bb70-a112a94a9ada');\n",
              "        const dataTable =\n",
              "          await google.colab.kernel.invokeFunction('convertToInteractive',\n",
              "                                                    [key], {});\n",
              "        if (!dataTable) return;\n",
              "\n",
              "        const docLinkHtml = 'Like what you see? Visit the ' +\n",
              "          '<a target=\"_blank\" href=https://colab.research.google.com/notebooks/data_table.ipynb>data table notebook</a>'\n",
              "          + ' to learn more about interactive tables.';\n",
              "        element.innerHTML = '';\n",
              "        dataTable['output_type'] = 'display_data';\n",
              "        await google.colab.output.renderOutput(dataTable, element);\n",
              "        const docLink = document.createElement('div');\n",
              "        docLink.innerHTML = docLinkHtml;\n",
              "        element.appendChild(docLink);\n",
              "      }\n",
              "    </script>\n",
              "  </div>\n",
              "\n",
              "\n",
              "<div id=\"df-443baac9-905b-49ba-bf54-0d4555d90da5\">\n",
              "  <button class=\"colab-df-quickchart\" onclick=\"quickchart('df-443baac9-905b-49ba-bf54-0d4555d90da5')\"\n",
              "            title=\"Suggest charts\"\n",
              "            style=\"display:none;\">\n",
              "\n",
              "<svg xmlns=\"http://www.w3.org/2000/svg\" height=\"24px\"viewBox=\"0 0 24 24\"\n",
              "     width=\"24px\">\n",
              "    <g>\n",
              "        <path d=\"M19 3H5c-1.1 0-2 .9-2 2v14c0 1.1.9 2 2 2h14c1.1 0 2-.9 2-2V5c0-1.1-.9-2-2-2zM9 17H7v-7h2v7zm4 0h-2V7h2v10zm4 0h-2v-4h2v4z\"/>\n",
              "    </g>\n",
              "</svg>\n",
              "  </button>\n",
              "\n",
              "<style>\n",
              "  .colab-df-quickchart {\n",
              "      --bg-color: #E8F0FE;\n",
              "      --fill-color: #1967D2;\n",
              "      --hover-bg-color: #E2EBFA;\n",
              "      --hover-fill-color: #174EA6;\n",
              "      --disabled-fill-color: #AAA;\n",
              "      --disabled-bg-color: #DDD;\n",
              "  }\n",
              "\n",
              "  [theme=dark] .colab-df-quickchart {\n",
              "      --bg-color: #3B4455;\n",
              "      --fill-color: #D2E3FC;\n",
              "      --hover-bg-color: #434B5C;\n",
              "      --hover-fill-color: #FFFFFF;\n",
              "      --disabled-bg-color: #3B4455;\n",
              "      --disabled-fill-color: #666;\n",
              "  }\n",
              "\n",
              "  .colab-df-quickchart {\n",
              "    background-color: var(--bg-color);\n",
              "    border: none;\n",
              "    border-radius: 50%;\n",
              "    cursor: pointer;\n",
              "    display: none;\n",
              "    fill: var(--fill-color);\n",
              "    height: 32px;\n",
              "    padding: 0;\n",
              "    width: 32px;\n",
              "  }\n",
              "\n",
              "  .colab-df-quickchart:hover {\n",
              "    background-color: var(--hover-bg-color);\n",
              "    box-shadow: 0 1px 2px rgba(60, 64, 67, 0.3), 0 1px 3px 1px rgba(60, 64, 67, 0.15);\n",
              "    fill: var(--button-hover-fill-color);\n",
              "  }\n",
              "\n",
              "  .colab-df-quickchart-complete:disabled,\n",
              "  .colab-df-quickchart-complete:disabled:hover {\n",
              "    background-color: var(--disabled-bg-color);\n",
              "    fill: var(--disabled-fill-color);\n",
              "    box-shadow: none;\n",
              "  }\n",
              "\n",
              "  .colab-df-spinner {\n",
              "    border: 2px solid var(--fill-color);\n",
              "    border-color: transparent;\n",
              "    border-bottom-color: var(--fill-color);\n",
              "    animation:\n",
              "      spin 1s steps(1) infinite;\n",
              "  }\n",
              "\n",
              "  @keyframes spin {\n",
              "    0% {\n",
              "      border-color: transparent;\n",
              "      border-bottom-color: var(--fill-color);\n",
              "      border-left-color: var(--fill-color);\n",
              "    }\n",
              "    20% {\n",
              "      border-color: transparent;\n",
              "      border-left-color: var(--fill-color);\n",
              "      border-top-color: var(--fill-color);\n",
              "    }\n",
              "    30% {\n",
              "      border-color: transparent;\n",
              "      border-left-color: var(--fill-color);\n",
              "      border-top-color: var(--fill-color);\n",
              "      border-right-color: var(--fill-color);\n",
              "    }\n",
              "    40% {\n",
              "      border-color: transparent;\n",
              "      border-right-color: var(--fill-color);\n",
              "      border-top-color: var(--fill-color);\n",
              "    }\n",
              "    60% {\n",
              "      border-color: transparent;\n",
              "      border-right-color: var(--fill-color);\n",
              "    }\n",
              "    80% {\n",
              "      border-color: transparent;\n",
              "      border-right-color: var(--fill-color);\n",
              "      border-bottom-color: var(--fill-color);\n",
              "    }\n",
              "    90% {\n",
              "      border-color: transparent;\n",
              "      border-bottom-color: var(--fill-color);\n",
              "    }\n",
              "  }\n",
              "</style>\n",
              "\n",
              "  <script>\n",
              "    async function quickchart(key) {\n",
              "      const quickchartButtonEl =\n",
              "        document.querySelector('#' + key + ' button');\n",
              "      quickchartButtonEl.disabled = true;  // To prevent multiple clicks.\n",
              "      quickchartButtonEl.classList.add('colab-df-spinner');\n",
              "      try {\n",
              "        const charts = await google.colab.kernel.invokeFunction(\n",
              "            'suggestCharts', [key], {});\n",
              "      } catch (error) {\n",
              "        console.error('Error during call to suggestCharts:', error);\n",
              "      }\n",
              "      quickchartButtonEl.classList.remove('colab-df-spinner');\n",
              "      quickchartButtonEl.classList.add('colab-df-quickchart-complete');\n",
              "    }\n",
              "    (() => {\n",
              "      let quickchartButtonEl =\n",
              "        document.querySelector('#df-443baac9-905b-49ba-bf54-0d4555d90da5 button');\n",
              "      quickchartButtonEl.style.display =\n",
              "        google.colab.kernel.accessAllowed ? 'block' : 'none';\n",
              "    })();\n",
              "  </script>\n",
              "</div>\n",
              "\n",
              "    </div>\n",
              "  </div>\n"
            ],
            "application/vnd.google.colaboratory.intrinsic+json": {
              "type": "dataframe",
              "variable_name": "df"
            }
          },
          "metadata": {},
          "execution_count": 17
        }
      ]
    },
    {
      "cell_type": "code",
      "source": [
        "df.shape"
      ],
      "metadata": {
        "colab": {
          "base_uri": "https://localhost:8080/"
        },
        "id": "rghdnXJrHa_Y",
        "outputId": "53b5ffcc-8801-4d07-c3a3-e1d5ecbe26f6"
      },
      "execution_count": 18,
      "outputs": [
        {
          "output_type": "execute_result",
          "data": {
            "text/plain": [
              "(166921, 17)"
            ]
          },
          "metadata": {},
          "execution_count": 18
        }
      ]
    },
    {
      "cell_type": "markdown",
      "source": [
        "Plot without any frills:"
      ],
      "metadata": {
        "id": "pQ_cJcvCHkb-"
      }
    },
    {
      "cell_type": "code",
      "source": [
        "df.plot()"
      ],
      "metadata": {
        "colab": {
          "base_uri": "https://localhost:8080/",
          "height": 401
        },
        "id": "uFOY4YmeHluI",
        "outputId": "f3671c35-443f-4036-bd41-2c48bac5ff40"
      },
      "execution_count": 19,
      "outputs": [
        {
          "output_type": "execute_result",
          "data": {
            "text/plain": [
              "<Axes: >"
            ]
          },
          "metadata": {},
          "execution_count": 19
        },
        {
          "output_type": "display_data",
          "data": {
            "text/plain": [
              "<Figure size 640x480 with 1 Axes>"
            ],
            "image/png": "[encoded data removed]"
          },
          "metadata": {}
        }
      ]
    },
    {
      "cell_type": "markdown",
      "source": [
        "The marker is too thick:"
      ],
      "metadata": {
        "id": "l-p_Xg11Ic34"
      }
    },
    {
      "cell_type": "code",
      "source": [
        "df.plot(column = 'individual-local-identifier', marker = 'o', edgecolor =\"none\", markersize = 0.5)"
      ],
      "metadata": {
        "colab": {
          "base_uri": "https://localhost:8080/",
          "height": 401
        },
        "id": "jpjouqNYIgNO",
        "outputId": "71bde0ba-c10e-4905-e724-dd098a681664"
      },
      "execution_count": 22,
      "outputs": [
        {
          "output_type": "execute_result",
          "data": {
            "text/plain": [
              "<Axes: >"
            ]
          },
          "metadata": {},
          "execution_count": 22
        },
        {
          "output_type": "display_data",
          "data": {
            "text/plain": [
              "<Figure size 640x480 with 1 Axes>"
            ],
            "image/png": "[encoded data removed]"
          },
          "metadata": {}
        }
      ]
    },
    {
      "cell_type": "markdown",
      "source": [
        "Split up the data according day or night:"
      ],
      "metadata": {
        "id": "0-vHOKrHIs6M"
      }
    },
    {
      "cell_type": "markdown",
      "source": [
        "Obtain only the observations during the day:"
      ],
      "metadata": {
        "id": "8ODID47eH9Su"
      }
    },
    {
      "cell_type": "code",
      "source": [
        "df_day = df[df['comments']=='day']\n",
        "df_day.shape"
      ],
      "metadata": {
        "colab": {
          "base_uri": "https://localhost:8080/"
        },
        "id": "pxGdXI0uH7jO",
        "outputId": "b8f429d7-4b2c-4d75-9d2b-6b352a48fdad"
      },
      "execution_count": 20,
      "outputs": [
        {
          "output_type": "execute_result",
          "data": {
            "text/plain": [
              "(148112, 17)"
            ]
          },
          "metadata": {},
          "execution_count": 20
        }
      ]
    },
    {
      "cell_type": "markdown",
      "source": [
        "Obtain only the observations during the night:"
      ],
      "metadata": {
        "id": "yrcOFwEyH_nV"
      }
    },
    {
      "cell_type": "code",
      "source": [
        "df_night = df[df['comments']=='night']"
      ],
      "metadata": {
        "id": "iSDUffckICg7"
      },
      "execution_count": 23,
      "outputs": []
    },
    {
      "cell_type": "markdown",
      "source": [
        "Plot again:"
      ],
      "metadata": {
        "id": "M26NhHCJHz6K"
      }
    },
    {
      "cell_type": "code",
      "source": [
        "df_day.plot(column = 'individual-local-identifier', marker = 'o', edgecolor =\"none\", markersize = 0.5)"
      ],
      "metadata": {
        "colab": {
          "base_uri": "https://localhost:8080/",
          "height": 401
        },
        "id": "ZcJGCY9YHd0f",
        "outputId": "a1af36b4-1fd5-48ad-c42f-d338ce9bb4ac"
      },
      "execution_count": 24,
      "outputs": [
        {
          "output_type": "execute_result",
          "data": {
            "text/plain": [
              "<Axes: >"
            ]
          },
          "metadata": {},
          "execution_count": 24
        },
        {
          "output_type": "display_data",
          "data": {
            "text/plain": [
              "<Figure size 640x480 with 1 Axes>"
            ],
            "image/png": "[encoded data removed]"
          },
          "metadata": {}
        }
      ]
    },
    {
      "cell_type": "code",
      "source": [
        "df_night.plot(column = 'individual-local-identifier', marker = 'o', edgecolor =\"none\", markersize = 0.5)"
      ],
      "metadata": {
        "colab": {
          "base_uri": "https://localhost:8080/",
          "height": 269
        },
        "id": "CCy6mFX9JQIW",
        "outputId": "02768909-aa5a-4cf5-b7ec-863d3546a581"
      },
      "execution_count": 25,
      "outputs": [
        {
          "output_type": "execute_result",
          "data": {
            "text/plain": [
              "<Axes: >"
            ]
          },
          "metadata": {},
          "execution_count": 25
        },
        {
          "output_type": "display_data",
          "data": {
            "text/plain": [
              "<Figure size 640x480 with 1 Axes>"
            ],
            "image/png": "[encoded data removed]"
          },
          "metadata": {}
        }
      ]
    },
    {
      "cell_type": "markdown",
      "source": [
        "The plots are not so nice yet so we need to improve them a bit later on.\n",
        "\n",
        "Download the data into a shape file:"
      ],
      "metadata": {
        "id": "-GTkwsuYJqIl"
      }
    },
    {
      "cell_type": "code",
      "source": [
        "df.to_file('movement.shp')"
      ],
      "metadata": {
        "colab": {
          "base_uri": "https://localhost:8080/"
        },
        "id": "T4aKF-u8JtTZ",
        "outputId": "6299fc9c-55b8-4a19-99c8-1d4246ec6d47"
      },
      "execution_count": 26,
      "outputs": [
        {
          "output_type": "stream",
          "name": "stderr",
          "text": [
            "<ipython-input-26-1bb0749a9409>:1: UserWarning: Column names longer than 10 characters will be truncated when saved to ESRI Shapefile.\n",
            "  df.to_file('movement.shp')\n",
            "/usr/local/lib/python3.10/dist-packages/pyogrio/raw.py:723: RuntimeWarning: Normalized/laundered field name: 'location-long' to 'location-l'\n",
            "  ogr_write(\n",
            "/usr/local/lib/python3.10/dist-packages/pyogrio/raw.py:723: RuntimeWarning: Normalized/laundered field name: 'location-lat' to 'location_1'\n",
            "  ogr_write(\n",
            "/usr/local/lib/python3.10/dist-packages/pyogrio/raw.py:723: RuntimeWarning: Normalized/laundered field name: 'ground-speed' to 'ground-spe'\n",
            "  ogr_write(\n",
            "/usr/local/lib/python3.10/dist-packages/pyogrio/raw.py:723: RuntimeWarning: Normalized/laundered field name: 'height-above-ellipsoid' to 'height-abo'\n",
            "  ogr_write(\n",
            "/usr/local/lib/python3.10/dist-packages/pyogrio/raw.py:723: RuntimeWarning: Normalized/laundered field name: 'study-specific-measurement' to 'study-spec'\n",
            "  ogr_write(\n",
            "/usr/local/lib/python3.10/dist-packages/pyogrio/raw.py:723: RuntimeWarning: Normalized/laundered field name: 'tag-tech-spec' to 'tag-tech-s'\n",
            "  ogr_write(\n",
            "/usr/local/lib/python3.10/dist-packages/pyogrio/raw.py:723: RuntimeWarning: Normalized/laundered field name: 'sensor-type' to 'sensor-typ'\n",
            "  ogr_write(\n",
            "/usr/local/lib/python3.10/dist-packages/pyogrio/raw.py:723: RuntimeWarning: Normalized/laundered field name: 'individual-taxon-canonical-name' to 'individual'\n",
            "  ogr_write(\n",
            "/usr/local/lib/python3.10/dist-packages/pyogrio/raw.py:723: RuntimeWarning: Normalized/laundered field name: 'tag-local-identifier' to 'tag-local-'\n",
            "  ogr_write(\n",
            "/usr/local/lib/python3.10/dist-packages/pyogrio/raw.py:723: RuntimeWarning: Normalized/laundered field name: 'individual-local-identifier' to 'individu_1'\n",
            "  ogr_write(\n"
          ]
        }
      ]
    },
    {
      "cell_type": "markdown",
      "source": [
        "The names are a bit strange so perhaps we can truncate it here itself. From Google Colab, the files can be downloaded to view in your software."
      ],
      "metadata": {
        "id": "aLGDxuX5KQz4"
      }
    },
    {
      "cell_type": "code",
      "source": [],
      "metadata": {
        "id": "oHgM3O5TKLEt"
      },
      "execution_count": null,
      "outputs": []
    }
  ]
}